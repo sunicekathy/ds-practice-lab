{
 "cells": [
  {
   "cell_type": "code",
   "execution_count": 35,
   "id": "b6e9331a-3db9-451b-8d63-41b587817343",
   "metadata": {},
   "outputs": [],
   "source": [
    "import pandas as pd\n",
    "import numpy as np\n",
    "\n",
    "from datetime import datetime\n",
    "from collections import defaultdict"
   ]
  },
  {
   "cell_type": "code",
   "execution_count": 1,
   "id": "0e3a8814-2513-4ecf-bcde-37c8c4902bda",
   "metadata": {},
   "outputs": [],
   "source": [
    "import time\n",
    "time.sleep(3)"
   ]
  },
  {
   "cell_type": "code",
   "execution_count": 2,
   "id": "77890d50-aaf3-4f25-8a2c-6bf68bc4774e",
   "metadata": {},
   "outputs": [
    {
     "data": {
      "text/plain": [
       "'Hello, bla!'"
      ]
     },
     "execution_count": 2,
     "metadata": {},
     "output_type": "execute_result"
    }
   ],
   "source": [
    "def say_hello(recipient):\n",
    "    return 'Hello, {}!'.format(recipient)\n",
    "say_hello('bla')"
   ]
  },
  {
   "cell_type": "markdown",
   "id": "27bec91b-f74c-43a0-9300-d41ed7d7f5de",
   "metadata": {},
   "source": [
    "# level 1 heading\n",
    "## level 2 heading\n",
    "paragraph,jfdafdklafjdkafjdkl;afjd;klahfdsiafhjdiosp;fahdaifhdjakfhjas;lfjk;dljfkldsa;fk;dlsjfdksafjdksafjdsa;fj;dsakjds;alfjdask;fkdsa;fjdksl;jfdksl;fsa;j\n",
    "\n",
    "paragraph,huh\n",
    "\n",
    "*bullet \n",
    "*bullet\n",
    "\n",
    "1. list\n",
    "2. list2\n",
    "[hyperlinks j;jk;j;](https://www.python.org/downloads/)"
   ]
  },
  {
   "cell_type": "code",
   "execution_count": 7,
   "id": "580febd2-b0fa-4d28-a8a4-5c3e083a1f9a",
   "metadata": {},
   "outputs": [
    {
     "name": "stdout",
     "output_type": "stream",
     "text": [
      "1 squared is 1\n"
     ]
    }
   ],
   "source": [
    "import numpy as np\n",
    "def square(x):\n",
    "    return x * x\n",
    "x = np.random.randint(1, 10)\n",
    "y = square(x)\n",
    "print('%d squared is %d' % (x, y))"
   ]
  },
  {
   "cell_type": "code",
   "execution_count": 8,
   "id": "78510575-c5b8-4b10-9412-2b0397c4b753",
   "metadata": {},
   "outputs": [
    {
     "name": "stdout",
     "output_type": "stream",
     "text": [
      "1 squared is 10\n"
     ]
    }
   ],
   "source": [
    "y = 10\n",
    "print('%d squared is %d' % (x, y))"
   ]
  },
  {
   "cell_type": "code",
   "execution_count": 9,
   "id": "1d189b0b-883e-4550-8dca-19b9ebae7660",
   "metadata": {},
   "outputs": [
    {
     "data": {
      "text/plain": [
       "0    1.0\n",
       "1    3.0\n",
       "2    5.0\n",
       "3    NaN\n",
       "4    6.0\n",
       "5    8.0\n",
       "dtype: float64"
      ]
     },
     "execution_count": 9,
     "metadata": {},
     "output_type": "execute_result"
    }
   ],
   "source": [
    "s = pd.Series([1, 3, 5, None, 6, 8])\n",
    "s\n",
    "#print(s.isna())"
   ]
  },
  {
   "cell_type": "code",
   "execution_count": 10,
   "id": "739e9006-bac3-45fc-9093-6a5d6bd8c5a4",
   "metadata": {},
   "outputs": [
    {
     "data": {
      "text/plain": [
       "DatetimeIndex(['2025-01-01', '2025-01-02', '2025-01-03', '2025-01-04',\n",
       "               '2025-01-05', '2025-01-06'],\n",
       "              dtype='datetime64[ns]', freq='D')"
      ]
     },
     "execution_count": 10,
     "metadata": {},
     "output_type": "execute_result"
    }
   ],
   "source": [
    "dates=pd.date_range(\"20250101\", periods=6, freq='D')\n",
    "dates"
   ]
  },
  {
   "cell_type": "code",
   "execution_count": 11,
   "id": "4609ebfb-d916-4bba-84b0-767e2bff0c4f",
   "metadata": {},
   "outputs": [
    {
     "data": {
      "text/html": [
       "<div>\n",
       "<style scoped>\n",
       "    .dataframe tbody tr th:only-of-type {\n",
       "        vertical-align: middle;\n",
       "    }\n",
       "\n",
       "    .dataframe tbody tr th {\n",
       "        vertical-align: top;\n",
       "    }\n",
       "\n",
       "    .dataframe thead th {\n",
       "        text-align: right;\n",
       "    }\n",
       "</style>\n",
       "<table border=\"1\" class=\"dataframe\">\n",
       "  <thead>\n",
       "    <tr style=\"text-align: right;\">\n",
       "      <th></th>\n",
       "      <th>A</th>\n",
       "      <th>B</th>\n",
       "      <th>C</th>\n",
       "      <th>D</th>\n",
       "    </tr>\n",
       "  </thead>\n",
       "  <tbody>\n",
       "    <tr>\n",
       "      <th>2025-01-01</th>\n",
       "      <td>-2.609978</td>\n",
       "      <td>-0.742343</td>\n",
       "      <td>-0.638614</td>\n",
       "      <td>0.563280</td>\n",
       "    </tr>\n",
       "    <tr>\n",
       "      <th>2025-01-02</th>\n",
       "      <td>-0.353719</td>\n",
       "      <td>1.319780</td>\n",
       "      <td>0.582016</td>\n",
       "      <td>0.337796</td>\n",
       "    </tr>\n",
       "    <tr>\n",
       "      <th>2025-01-03</th>\n",
       "      <td>-0.067450</td>\n",
       "      <td>-0.965601</td>\n",
       "      <td>-0.343081</td>\n",
       "      <td>0.087415</td>\n",
       "    </tr>\n",
       "    <tr>\n",
       "      <th>2025-01-04</th>\n",
       "      <td>0.921748</td>\n",
       "      <td>1.217632</td>\n",
       "      <td>-0.360030</td>\n",
       "      <td>1.126029</td>\n",
       "    </tr>\n",
       "    <tr>\n",
       "      <th>2025-01-05</th>\n",
       "      <td>-1.516061</td>\n",
       "      <td>-1.158476</td>\n",
       "      <td>0.806106</td>\n",
       "      <td>3.238569</td>\n",
       "    </tr>\n",
       "    <tr>\n",
       "      <th>2025-01-06</th>\n",
       "      <td>-1.038168</td>\n",
       "      <td>0.809830</td>\n",
       "      <td>-0.385370</td>\n",
       "      <td>0.309779</td>\n",
       "    </tr>\n",
       "  </tbody>\n",
       "</table>\n",
       "</div>"
      ],
      "text/plain": [
       "                   A         B         C         D\n",
       "2025-01-01 -2.609978 -0.742343 -0.638614  0.563280\n",
       "2025-01-02 -0.353719  1.319780  0.582016  0.337796\n",
       "2025-01-03 -0.067450 -0.965601 -0.343081  0.087415\n",
       "2025-01-04  0.921748  1.217632 -0.360030  1.126029\n",
       "2025-01-05 -1.516061 -1.158476  0.806106  3.238569\n",
       "2025-01-06 -1.038168  0.809830 -0.385370  0.309779"
      ]
     },
     "execution_count": 11,
     "metadata": {},
     "output_type": "execute_result"
    }
   ],
   "source": [
    "df=pd.DataFrame(np.random.randn(6,4), index=dates, columns=list(\"ABCD\"))\n",
    "df"
   ]
  },
  {
   "cell_type": "code",
   "execution_count": 12,
   "id": "006799ab-3300-4932-bab3-aed91365f9ab",
   "metadata": {},
   "outputs": [
    {
     "name": "stdout",
     "output_type": "stream",
     "text": [
      "[1, 4, 9]\n"
     ]
    }
   ],
   "source": [
    "numbers = [1,2,3]\n",
    "squared = [x**2 for x in numbers]\n",
    "print(squared)"
   ]
  },
  {
   "cell_type": "code",
   "execution_count": 13,
   "id": "583e9357-6ecc-4cc5-90d4-e348290ef5ad",
   "metadata": {},
   "outputs": [
    {
     "name": "stdout",
     "output_type": "stream",
     "text": [
      "[5, 7, 9]\n"
     ]
    }
   ],
   "source": [
    "import operator\n",
    "\n",
    "a = [1, 2, 3]\n",
    "b = [4, 5, 6]\n",
    "\n",
    "summed = list(map(lambda a, b: a+b, a, b))  # Cleaner than lambda\n",
    "print(summed)  # [5, 7, 9]"
   ]
  },
  {
   "cell_type": "code",
   "execution_count": 14,
   "id": "9bdce41d-41c4-4a2b-a1a8-02b10c5d5ea5",
   "metadata": {},
   "outputs": [
    {
     "data": {
      "text/plain": [
       "2025-01-01   -2.609978\n",
       "2025-01-02   -0.353719\n",
       "2025-01-03   -0.067450\n",
       "2025-01-04    0.921748\n",
       "2025-01-05   -1.516061\n",
       "2025-01-06   -1.038168\n",
       "Freq: D, Name: A, dtype: float64"
      ]
     },
     "execution_count": 14,
     "metadata": {},
     "output_type": "execute_result"
    }
   ],
   "source": [
    "df[\"A\"]"
   ]
  },
  {
   "cell_type": "code",
   "execution_count": 15,
   "id": "3346808f-fac7-4444-ade4-5dabd02ac306",
   "metadata": {},
   "outputs": [
    {
     "data": {
      "text/plain": [
       "2025-01-01   -2.609978\n",
       "2025-01-02   -0.353719\n",
       "2025-01-03   -0.067450\n",
       "2025-01-04    0.921748\n",
       "2025-01-05   -1.516061\n",
       "2025-01-06   -1.038168\n",
       "Freq: D, Name: A, dtype: float64"
      ]
     },
     "execution_count": 15,
     "metadata": {},
     "output_type": "execute_result"
    }
   ],
   "source": [
    "df.A"
   ]
  },
  {
   "cell_type": "code",
   "execution_count": 16,
   "id": "4058ee3d-f6eb-429c-b0dc-8befb516f6db",
   "metadata": {},
   "outputs": [],
   "source": [
    "tuple_var=(1,2,3)"
   ]
  },
  {
   "cell_type": "code",
   "execution_count": 17,
   "id": "c45b2ac1-fe6e-4618-bc71-275263717db3",
   "metadata": {},
   "outputs": [
    {
     "data": {
      "text/plain": [
       "(1, 2, 5)"
      ]
     },
     "execution_count": 17,
     "metadata": {},
     "output_type": "execute_result"
    }
   ],
   "source": [
    "list_var=list(tuple_var)\n",
    "list_var[2]=5\n",
    "tuple_var=tuple(list_var)\n",
    "tuple_var\n"
   ]
  },
  {
   "cell_type": "code",
   "execution_count": 18,
   "id": "ed91ea2c-07d0-499c-8fae-d081a321a645",
   "metadata": {},
   "outputs": [
    {
     "data": {
      "text/plain": [
       "['test', 1, 2, 5]"
      ]
     },
     "execution_count": 18,
     "metadata": {},
     "output_type": "execute_result"
    }
   ],
   "source": [
    "list_var.insert(0,'test')\n",
    "list_var"
   ]
  },
  {
   "cell_type": "code",
   "execution_count": 19,
   "id": "81a24ae4-9ee5-47c8-b5de-74814bd9b2af",
   "metadata": {},
   "outputs": [],
   "source": [
    "del list_var[1]"
   ]
  },
  {
   "cell_type": "code",
   "execution_count": 20,
   "id": "95a5244d-1657-4675-83bb-3598086f439a",
   "metadata": {},
   "outputs": [
    {
     "data": {
      "text/plain": [
       "['test', 2, 5]"
      ]
     },
     "execution_count": 20,
     "metadata": {},
     "output_type": "execute_result"
    }
   ],
   "source": [
    "list_var"
   ]
  },
  {
   "cell_type": "code",
   "execution_count": 21,
   "id": "03eaa18b-20bf-4bda-bd53-2fd9baf88667",
   "metadata": {},
   "outputs": [],
   "source": [
    "list2=[10,11,12]\n",
    "list_var.extend(list2)"
   ]
  },
  {
   "cell_type": "code",
   "execution_count": 22,
   "id": "d2f7adf4-1ef5-4326-bec9-0819724d89ee",
   "metadata": {},
   "outputs": [
    {
     "data": {
      "text/plain": [
       "3"
      ]
     },
     "execution_count": 22,
     "metadata": {},
     "output_type": "execute_result"
    }
   ],
   "source": [
    "list_var.index(10)"
   ]
  },
  {
   "cell_type": "code",
   "execution_count": 23,
   "id": "f98d1fd3-70b7-447c-9358-12a9b69b003e",
   "metadata": {},
   "outputs": [
    {
     "data": {
      "text/plain": [
       "10"
      ]
     },
     "execution_count": 23,
     "metadata": {},
     "output_type": "execute_result"
    }
   ],
   "source": [
    "list_var.pop(3)"
   ]
  },
  {
   "cell_type": "code",
   "execution_count": 24,
   "id": "eb44eeef-011e-4764-b349-a5c7dc032e58",
   "metadata": {},
   "outputs": [
    {
     "data": {
      "text/plain": [
       "{'mom': 'Bingyang', 'dad': 'Hongyu', 'son': 'Evan', 'meimei': 'Ava'}"
      ]
     },
     "execution_count": 24,
     "metadata": {},
     "output_type": "execute_result"
    }
   ],
   "source": [
    "family={'mom': \"Bingyang\", 'dad':\"Hongyu\", 'son':\"Evan\", 'meimei':\"Ava\"}\n",
    "family"
   ]
  },
  {
   "cell_type": "code",
   "execution_count": 25,
   "id": "0f6e971e-4e2e-48a5-b955-011a74c82f73",
   "metadata": {},
   "outputs": [
    {
     "data": {
      "text/plain": [
       "'Bingyang'"
      ]
     },
     "execution_count": 25,
     "metadata": {},
     "output_type": "execute_result"
    }
   ],
   "source": [
    "family['mom']"
   ]
  },
  {
   "cell_type": "code",
   "execution_count": 26,
   "id": "254a2941-df51-4378-9c11-b068b4eb228a",
   "metadata": {},
   "outputs": [],
   "source": [
    "copy=family.copy"
   ]
  },
  {
   "cell_type": "code",
   "execution_count": 27,
   "id": "b5e451cd-46fc-4b50-b51c-e505ffa85b87",
   "metadata": {},
   "outputs": [
    {
     "name": "stdout",
     "output_type": "stream",
     "text": [
      "None\n"
     ]
    }
   ],
   "source": [
    "print(family.get('g'))"
   ]
  },
  {
   "cell_type": "code",
   "execution_count": 28,
   "id": "4fa7fa83-f6c9-4cd0-a1ae-47e99eb945e0",
   "metadata": {},
   "outputs": [
    {
     "data": {
      "text/plain": [
       "('meimei', 'Ava')"
      ]
     },
     "execution_count": 28,
     "metadata": {},
     "output_type": "execute_result"
    }
   ],
   "source": [
    "family.popitem()"
   ]
  },
  {
   "cell_type": "code",
   "execution_count": 29,
   "id": "97266e40-a4e9-4537-9663-5821eda642a1",
   "metadata": {},
   "outputs": [
    {
     "data": {
      "text/plain": [
       "{'mom': 'Bingyang', 'dad': 'Hongyu', 'son': 'Evan'}"
      ]
     },
     "execution_count": 29,
     "metadata": {},
     "output_type": "execute_result"
    }
   ],
   "source": [
    "family"
   ]
  },
  {
   "cell_type": "code",
   "execution_count": 30,
   "id": "4ed55115-5dd9-42d8-b7b7-a483c5f7c79b",
   "metadata": {},
   "outputs": [
    {
     "data": {
      "text/plain": [
       "'agu'"
      ]
     },
     "execution_count": 30,
     "metadata": {},
     "output_type": "execute_result"
    }
   ],
   "source": [
    "family.setdefault('grand',\"agu\")"
   ]
  },
  {
   "cell_type": "code",
   "execution_count": 31,
   "id": "57001480-7a6f-4bb6-8b91-7c00f93c3ade",
   "metadata": {},
   "outputs": [],
   "source": [
    "del family['mom']"
   ]
  },
  {
   "cell_type": "code",
   "execution_count": 32,
   "id": "2da7a47b-ffa9-43d1-8ca0-08ac556dc21f",
   "metadata": {},
   "outputs": [
    {
     "name": "stdout",
     "output_type": "stream",
     "text": [
      "shuttle 1 launched\n"
     ]
    }
   ],
   "source": [
    "num=1\n",
    "print(f'shuttle {num} launched')"
   ]
  },
  {
   "cell_type": "code",
   "execution_count": 33,
   "id": "cae620ae-0e20-4855-a4de-bc134eb5b663",
   "metadata": {},
   "outputs": [
    {
     "name": "stdout",
     "output_type": "stream",
     "text": [
      "dad \n",
      " Hongyu\n",
      "son \n",
      " Evan\n",
      "grand \n",
      " agu\n"
     ]
    }
   ],
   "source": [
    "for key, value in family.items():\n",
    "    print(key,'\\n',value)"
   ]
  },
  {
   "cell_type": "code",
   "execution_count": 35,
   "id": "dcebe990-8f96-4cff-9108-d609ef3f3fff",
   "metadata": {},
   "outputs": [
    {
     "name": "stdout",
     "output_type": "stream",
     "text": [
      "0 dad Hongyu\n",
      "1 son Evan\n",
      "2 grand agu\n"
     ]
    }
   ],
   "source": [
    "for idx, (key, value) in enumerate(family.items()):\n",
    "    print(idx, key, value)\n"
   ]
  },
  {
   "cell_type": "markdown",
   "id": "91613cca-11f2-4910-8282-ddd540e22354",
   "metadata": {},
   "source": [
    "# List comprehension drill"
   ]
  },
  {
   "cell_type": "code",
   "execution_count": 41,
   "id": "9749da88-8f65-4081-a08c-7f9696af1f55",
   "metadata": {},
   "outputs": [
    {
     "name": "stdout",
     "output_type": "stream",
     "text": [
      "{'a': 1, 'b': 2, 'c': 3}\n"
     ]
    }
   ],
   "source": [
    "#output=[x**2 for x in range(5)]\n",
    "\n",
    "# words = ['apple', 'banana', 'cherry']\n",
    "# output = [x.upper() for x in words]\n",
    "\n",
    "# input=[1,2,3,4,5]\n",
    "# output=[x for x in input if x%2==0]\n",
    "\n",
    "# words = ['hi', '', 'hello', '', 'world']\n",
    "# output=[x for x in words if x!='']\n",
    "\n",
    "# data = [('Alice', 90), ('Bob', 85), ('Carol', 95)]\n",
    "# output=[x[0] for x in data]\n",
    "\n",
    "keys = ['a', 'b', 'c']\n",
    "values = [1, 2, 3]\n",
    "output={x:y for (x, y) in zip(keys,values)}\n",
    "\n",
    "print(output)"
   ]
  },
  {
   "cell_type": "code",
   "execution_count": 47,
   "id": "d0b86955-988c-46ff-8333-8b8939b23cef",
   "metadata": {},
   "outputs": [
    {
     "name": "stdout",
     "output_type": "stream",
     "text": [
      "[2, 4, 6, 8, 10]\n"
     ]
    }
   ],
   "source": [
    "# You have a list of lists of integers. Return a flat list where each number is doubled.\n",
    "nums = [[1, 2], [3, 4], [5]]\n",
    "output=[x*2 \n",
    "        for inner_list in nums \n",
    "        for x in inner_list]\n",
    "print(output)"
   ]
  },
  {
   "cell_type": "code",
   "execution_count": 48,
   "id": "556909b8-891b-438a-a438-d052217d75ae",
   "metadata": {},
   "outputs": [
    {
     "name": "stdout",
     "output_type": "stream",
     "text": [
      "['Bob', 'Carol']\n"
     ]
    }
   ],
   "source": [
    "scores = [(\"Alice\", 88), (\"Bob\", 95), (\"Carol\", 92)]\n",
    "output=[t[0] for t in scores if t[1]>=90]\n",
    "print(output)\n",
    "        "
   ]
  },
  {
   "cell_type": "code",
   "execution_count": 50,
   "id": "9a9f564b-2974-4e0b-8e34-78eb6136ea21",
   "metadata": {},
   "outputs": [
    {
     "name": "stdout",
     "output_type": "stream",
     "text": [
      "{'b': 15}\n"
     ]
    }
   ],
   "source": [
    "keys = [\"a\", \"b\", \"c\"]\n",
    "values = [5, 15, 8]\n",
    "output={x:y for (x,y) in zip(keys,values) if y>10}\n",
    "print(output)"
   ]
  },
  {
   "cell_type": "code",
   "execution_count": 54,
   "id": "28bdbaa2-b809-4e6a-804d-42cdb9c625cf",
   "metadata": {},
   "outputs": [
    {
     "name": "stdout",
     "output_type": "stream",
     "text": [
      "[(1, 4), (2, 5), (3, 4)]\n"
     ]
    }
   ],
   "source": [
    "a=[1,2,3]\n",
    "b=[4,5]\n",
    "output=[(x,y)\n",
    "        for x in a\n",
    "        for y in b\n",
    "        if (x+y)%2!=0]\n",
    "\n",
    "print(output)"
   ]
  },
  {
   "cell_type": "code",
   "execution_count": 56,
   "id": "48a6882c-52b5-4265-9a60-d18783e9bc14",
   "metadata": {},
   "outputs": [
    {
     "name": "stdout",
     "output_type": "stream",
     "text": [
      "[1, 4, 2, 5, 3, 6]\n"
     ]
    }
   ],
   "source": [
    "matrix = [\n",
    "    [1, 2, 3],\n",
    "    [4, 5, 6]\n",
    "]\n",
    "\n",
    "output=[matrix[x][y]\n",
    "        for y in range(len(matrix[0]))\n",
    "        for x in range(len(matrix))]\n",
    "print(output)"
   ]
  },
  {
   "cell_type": "code",
   "execution_count": 19,
   "id": "10bf7d63-819f-47e5-b733-ab80360dff51",
   "metadata": {},
   "outputs": [
    {
     "name": "stdout",
     "output_type": "stream",
     "text": [
      "[{'user_id': 1, 'email': 'a@example.com'}, {'user_id': 1, 'email': 'b@example.com'}, {'user_id': 2, 'email': None}, {'user_id': 3, 'email': 'c@example.com'}]\n"
     ]
    }
   ],
   "source": [
    "users = [\n",
    "  {'user_id': 1, 'emails': ['a@example.com', 'b@example.com']},\n",
    "  {'user_id': 2, 'emails': []},\n",
    "  {'user_id': 3, 'emails': ['c@example.com']}\n",
    "]\n",
    "\n",
    "output=[]\n",
    "for user in users:\n",
    "    email\n",
    "    if user.get('emails')==None or user.get('emails')==[]:\n",
    "        output.append({'user_id': user['user_id'], 'email':None})    \n",
    "    else:\n",
    "        for email in user['emails']:\n",
    "            output.append({'user_id': user['user_id'], 'email':email})\n",
    "print(output)\n",
    "\n",
    "# output=[{'user_id':user['user_id'], 'email':email} \n",
    "#         for user in users\n",
    "#         for email in (user['emails'] if user['emails']!=[] else [None])]\n",
    "# print(output)"
   ]
  },
  {
   "cell_type": "code",
   "execution_count": 12,
   "id": "ac3da079-e2df-4a8b-80fd-d1a459d2e330",
   "metadata": {},
   "outputs": [
    {
     "name": "stdout",
     "output_type": "stream",
     "text": [
      "[{'user_id': 1, 'address': 'New York'}, {'user_id': 2, 'address': 'UNKNOWN'}, {'user_id': 3, 'address': 'UNKNOWN'}, {'user_id': 4, 'address': 'San Francisco'}]\n"
     ]
    }
   ],
   "source": [
    "users = [\n",
    "    {'user_id': 1, 'address': {'city': 'New York'}},\n",
    "    {'user_id': 2},\n",
    "    {'user_id': 3, 'address': {'state': 'CA'}},\n",
    "    {'user_id': 4, 'address': {'city': 'San Francisco'}},\n",
    "]\n",
    "\n",
    "output=[]\n",
    "for user in users:\n",
    "    address=user.get('address',{}).get('city','UNKNOWN')\n",
    "    output.append({'user_id':user['user_id'],'address':address})\n",
    "\n",
    "    \n",
    "    # if user.get('address') is None:\n",
    "    #     output.append({'user_id':user['user_id'],'address':'UNKNOWN'})\n",
    "    # elif user.get('address').get('city') is None:\n",
    "    #     output.append({'user_id':user['user_id'],'address':'UNKNOWN'})\n",
    "    # else:\n",
    "    #     output.append({'user_id':user['user_id'],'address':user.get('address').get('city')})\n",
    "\n",
    "print(output)\n",
    "# output:\n",
    "\n",
    "# [\n",
    "#     {'user_id': 1, 'city': 'New York'},\n",
    "#     {'user_id': 2, 'city': 'UNKNOWN'},\n",
    "#     {'user_id': 3, 'city': 'UNKNOWN'},\n",
    "#     {'user_id': 4, 'city': 'San Francisco'},\n",
    "# ]"
   ]
  },
  {
   "cell_type": "code",
   "execution_count": 13,
   "id": "6aae6d02-60eb-4ae8-87c5-af2ac187eab0",
   "metadata": {},
   "outputs": [],
   "source": [
    "users = [\n",
    "  {\n",
    "    'user_id': 1,\n",
    "    'name': 'Alice',\n",
    "    'orders': [\n",
    "      {'order_id': 'A1', 'amount': 25},\n",
    "      {'order_id': 'A2', 'amount': 15}\n",
    "    ]\n",
    "  },\n",
    "  {\n",
    "    'user_id': 2,\n",
    "    'name': 'Bob',\n",
    "    'orders': []\n",
    "  },\n",
    "  {\n",
    "    'user_id': 3,\n",
    "    'name': 'Charlie',\n",
    "    'orders': [\n",
    "      {'order_id': 'C1', 'amount': 50}\n",
    "    ]\n",
    "  }\n",
    "]\n",
    "# [\n",
    "#   {'user_id': 1, 'name': 'Alice', 'order_id': 'A1', 'amount': 25},\n",
    "#   {'user_id': 1, 'name': 'Alice', 'order_id': 'A2', 'amount': 15},\n",
    "#   {'user_id': 3, 'name': 'Charlie', 'order_id': 'C1', 'amount': 50}\n",
    "# ]"
   ]
  },
  {
   "cell_type": "code",
   "execution_count": 82,
   "id": "7dcbdb09-41f5-4175-9991-5313612a2abd",
   "metadata": {},
   "outputs": [
    {
     "name": "stdout",
     "output_type": "stream",
     "text": [
      "[{'user_id': 1, 'name': 'Alice', 'order_id': 'A1', 'amount': 25}, {'user_id': 1, 'name': 'Alice', 'order_id': 'A2', 'amount': 15}, {'user_id': 3, 'name': 'Charlie', 'order_id': 'C1', 'amount': 50}]\n"
     ]
    }
   ],
   "source": [
    "output=[]\n",
    "for user in users:\n",
    "    if user.get('orders')==[] or user.get('orders') is None:\n",
    "        continue\n",
    "    else:\n",
    "        for order in user['orders']:\n",
    "            output.append({'user_id':user['user_id'], \n",
    "                           'name': user['name'],\n",
    "                           'order_id':order['order_id'],\n",
    "                           'amount':order['amount']})\n",
    "\n",
    "print(output)"
   ]
  },
  {
   "cell_type": "markdown",
   "id": "dbf8c4e6-084d-4304-acbe-7b497a54fd8b",
   "metadata": {},
   "source": [
    "# Bootstrapping"
   ]
  },
  {
   "cell_type": "code",
   "execution_count": 59,
   "id": "fc873940-557c-4689-8c8d-98c388b39a8f",
   "metadata": {},
   "outputs": [],
   "source": [
    "def bootstrap_test (data, func, n=1000, alpha=0.05):\n",
    "    stat_list=[]\n",
    "    for _ in range(n):\n",
    "        sample=[random.choice(data) for _ in range(len(data))]\n",
    "        stat_list.append(func(sample))\n",
    "    stat_list.sort()\n",
    "\n",
    "    lower_bound=stat_list[int(alpha/2*n)]\n",
    "    upper_bound=stat_list[int((1-alpha/2)*n)]\n",
    "\n",
    "    return (lower_bound, upper_bound)\n",
    "bootstrap_test("
   ]
  },
  {
   "cell_type": "code",
   "execution_count": 20,
   "id": "f85ff1a9-f38e-4d94-986d-c9f05d4ca5ae",
   "metadata": {},
   "outputs": [],
   "source": [
    "def bootstrap_test (data, func, n=1000, alpha=0.05):\n",
    "    stat_list=[]\n",
    "    for _ in range(n):\n",
    "        sample=random.choices(data, k=len(data))\n",
    "        stat_list.append(func(sample))\n",
    "    stat_list.sort()\n",
    "\n",
    "    lower_bound=stat_list[int(alpha/2*n)]\n",
    "    upper_bound=stat_list[int((1-alpha/2)*n)]\n",
    "\n",
    "    return (lower_bound, upper_bound)\n"
   ]
  },
  {
   "cell_type": "code",
   "execution_count": 23,
   "id": "82ea61c6-f889-48bc-b42e-7ebd1cc140d4",
   "metadata": {},
   "outputs": [
    {
     "data": {
      "text/plain": [
       "[{'page_view': 6, 'conversion': 0},\n",
       " {'page_view': 4, 'conversion': 0},\n",
       " {'page_view': 4, 'conversion': 0},\n",
       " {'page_view': 5, 'conversion': 1},\n",
       " {'page_view': 2, 'conversion': 2},\n",
       " {'page_view': 4, 'conversion': 0},\n",
       " {'page_view': 8, 'conversion': 0},\n",
       " {'page_view': 4, 'conversion': 0},\n",
       " {'page_view': 8, 'conversion': 0},\n",
       " {'page_view': 2, 'conversion': 0}]"
      ]
     },
     "execution_count": 23,
     "metadata": {},
     "output_type": "execute_result"
    }
   ],
   "source": [
    "#🎙️ Say: “Each user gets a random number of pageviews (1–10), and each view has a 10% chance of conversion.\n",
    "#I’m capturing this in a simple list of dicts.”\n",
    "import random\n",
    "def simulate_data(k=1000, prob=0.1):\n",
    "    output=[]\n",
    "    for _ in range(k):\n",
    "        page_view=random.randint(1,10)\n",
    "        conversion=sum([random.random()<prob for _ in range(page_view)])\n",
    "        output.append({'page_view':page_view, 'conversion': conversion})\n",
    "    return output\n",
    "simulate_data(k=10)"
   ]
  },
  {
   "cell_type": "markdown",
   "id": "79feb5ee-b459-434f-96a4-6081ec1b5907",
   "metadata": {},
   "source": [
    "# Filtering"
   ]
  },
  {
   "cell_type": "code",
   "execution_count": 26,
   "id": "fed6eaa1-6d52-42cb-9bd2-80c595148317",
   "metadata": {},
   "outputs": [
    {
     "data": {
      "text/plain": [
       "[1, 3]"
      ]
     },
     "execution_count": 26,
     "metadata": {},
     "output_type": "execute_result"
    }
   ],
   "source": [
    "users = [\n",
    "    {'id': 1, 'age': 25, 'country': 'US'},\n",
    "    {'id': 2, 'age': 17, 'country': 'CA'},\n",
    "    {'id': 3, 'age': 30, 'country': 'US'},\n",
    "]\n",
    "\n",
    "# Task 1: Filter for users from the US who are over 18\n",
    "users_1=[u for u in users if u['country']=='US' and u['age']>18]\n",
    "users_1\n",
    "\n",
    "# Task 2: Return just their IDs\n",
    "users_2=[u['id'] for u in users_1]\n",
    "users_2\n",
    "# Task 3: Return list of dicts with id and a new field 'is_senior' = age >= 30\n",
    "users_3=[{'id':u['id'], 'is_senior':(u['age']>=30)} for u in users]\n",
    "users_3\n",
    "\n",
    "user5=[u['id'] for u in users if u['country']=='US']\n",
    "user5"
   ]
  },
  {
   "cell_type": "code",
   "execution_count": 68,
   "id": "16aec40e-4c3f-4c54-815c-c9e728f73c3a",
   "metadata": {},
   "outputs": [
    {
     "name": "stdout",
     "output_type": "stream",
     "text": [
      "([{'user_id': 1, 'user_total': 300}, {'user_id': 3, 'user_total': 300}], 300.0)\n",
      "[{'country': 'US', 'avg_amount': 0.0}, {'country': 'CA', 'avg_amount': 0.0}]\n"
     ]
    }
   ],
   "source": [
    "users = [\n",
    "  {'user_id': 1, 'country': 'US'},\n",
    "  {'user_id': 2, 'country': 'CA'},\n",
    "  {'user_id': 3, 'country': 'US'},\n",
    "]\n",
    "\n",
    "transactions = [\n",
    "  {'user_id': 1, 'amount': 100},\n",
    "  {'user_id': 2, 'amount': 50},\n",
    "  {'user_id': 1, 'amount': 200},\n",
    "  {'user_id': 3, 'amount': 300},\n",
    "]\n",
    "#Tasks:\n",
    "\n",
    "#Filter for users from the US.\n",
    "users_us=[u for u in users if u['country']=='US']\n",
    "#Compute the total transaction amount for each US user.\n",
    "\n",
    "\n",
    "def trans_amount(users, transactions):\n",
    "    trans_amount=[]\n",
    "    user_id=[u['user_id'] for u in users]\n",
    "    for uid in user_id:\n",
    "        user_total=sum([t['amount'] for t in transactions if t['user_id']==uid])\n",
    "        trans_amount.append({'user_id': uid, 'user_total':user_total})\n",
    "    # per user average amount\n",
    "    avg_amount=sum([tm['user_total'] for tm in trans_amount])/len(users)\n",
    "    # per user average amount by country\n",
    "    \n",
    "    return (trans_amount, avg_amount)\n",
    "#Return a list of dicts like: {'user_id': X, 'total_spend': Y} for US users only.\n",
    "users_us_only=[u for u in users if u['country']=='US']\n",
    "print(trans_amount(users_us_only, transactions))\n"
   ]
  },
  {
   "cell_type": "code",
   "execution_count": 36,
   "id": "2cb99101-1e2c-4bc3-a082-6f8304ed9161",
   "metadata": {},
   "outputs": [],
   "source": [
    "users = [\n",
    "    {'user_id': 1, 'country': 'US'},\n",
    "    {'user_id': 2, 'country': 'CA'},\n",
    "    {'user_id': 3, 'country': 'US'},\n",
    "    {'user_id': 4, 'country': 'FR'},\n",
    "]\n",
    "\n",
    "transactions = [\n",
    "    {'user_id': 1, 'amount': 100},\n",
    "    {'user_id': 2, 'amount': 50},\n",
    "    {'user_id': 1, 'amount': 200},\n",
    "    {'user_id': 3, 'amount': 300},\n",
    "    {'user_id': 4, 'amount': 120},\n",
    "    {'user_id': 4, 'amount': 130},\n",
    "]\n",
    "\n",
    "#generate user country mapping\n",
    "from collections import defaultdict\n",
    "user_country={}\n",
    "for u in users:\n",
    "    user_country[u['user_id']]=u['country']\n",
    "# generate a dict for country:total amount\n",
    "country_amount=defaultdict(int)\n",
    "for trans in transactions:\n",
    "    country_amount[user_country[trans['user_id']]] +=trans['amount']\n",
    "    \n",
    "# generate a dict for country:num of users    \n",
    "country_users=defaultdict(set)\n",
    "user_id=set([t['user_id'] for t in transactions])\n",
    "for u in users:\n",
    "    if u['user_id'] in user_id:\n",
    "        country_users[u['country']].add(u['user_id'])\n",
    "\n",
    "ouput=[]\n",
    "for country, amount in country_amount.items():\n",
    "    output.append({'country':country, 'total_spend':amount, 'avg_per_user':amount/len(country_users[country])})\n",
    "    \n",
    "    "
   ]
  },
  {
   "cell_type": "code",
   "execution_count": 91,
   "id": "1c90eb25-c43e-41cf-9d85-27b3480a3a3d",
   "metadata": {},
   "outputs": [
    {
     "name": "stdout",
     "output_type": "stream",
     "text": [
      "[{'country': 'US', 'avg_amount': 300.0}, {'country': 'CA', 'avg_amount': 50.0}]\n"
     ]
    }
   ],
   "source": [
    "\n",
    "def avg_spend_by_country(users, transactions):\n",
    "    #create list of unique countries using set\n",
    "    country_set=set(u['country'] for u in users)\n",
    "    per_user_spend_by_country=[]\n",
    "    for country in country_set:\n",
    "        #subset to users in a specific country\n",
    "        user_id=[u['user_id'] for u in users if u['country']==country]\n",
    "        trans_amount=[]\n",
    "        for uid in user_id:\n",
    "            user_total=sum([t['amount'] for t in transactions if t['user_id']==uid])\n",
    "            trans_amount.append({'user_id': uid, 'user_total':user_total})\n",
    "\n",
    "    # per user average amount in the country\n",
    "        avg_amount=sum([tm['user_total'] for tm in trans_amount])/len(user_id)\n",
    "        per_user_spend_by_country.append({'country':country, 'avg_amount':avg_amount})\n",
    "\n",
    "    return (per_user_spend_by_country)\n",
    "#Return a list of dicts like: {'user_id': X, 'total_spend': Y} for US users only.\n",
    "\n",
    "print(avg_spend_by_country(users, transactions))"
   ]
  },
  {
   "cell_type": "markdown",
   "id": "254d9f2d-e477-4560-b29e-1a951df62650",
   "metadata": {},
   "source": [
    "# Simulate groupby() in pure Python"
   ]
  },
  {
   "cell_type": "code",
   "execution_count": 96,
   "id": "82ff1e50-c2da-4f44-a552-90d421c4cce6",
   "metadata": {},
   "outputs": [
    {
     "name": "stdout",
     "output_type": "stream",
     "text": [
      "{'US': [100, 200, 300], 'CA': [50]}\n",
      "[{'country': 'US', 'total_spend': 600}, {'country': 'CA', 'total_spend': 50}]\n"
     ]
    }
   ],
   "source": [
    "\n",
    "# join users and transactions\n",
    "user_to_country={}\n",
    "for user in users:\n",
    "    user_to_country[user['user_id']]=user['country']\n",
    "\n",
    "#Group transactions by country\n",
    "grouped_by_country= {}\n",
    "for trans in transactions:\n",
    "    uid=trans['user_id']\n",
    "    country = user_to_country.get(uid)\n",
    "    if country is None:\n",
    "        continue\n",
    "    if country not in grouped_by_country:\n",
    "        grouped_by_country[country]=[]\n",
    "\n",
    "    grouped_by_country[country].append(trans['amount'])\n",
    "print(grouped_by_country)\n",
    "# aggregate amounts\n",
    "results=[]\n",
    "for country, amounts in grouped_by_country.items():\n",
    "    total=sum(amounts)\n",
    "    results.append({'country':country, 'total_spend': total})\n",
    "print(results)"
   ]
  },
  {
   "cell_type": "code",
   "execution_count": 105,
   "id": "7aa3ffc0-ed31-4b10-8a00-be6317c7701a",
   "metadata": {},
   "outputs": [
    {
     "name": "stdout",
     "output_type": "stream",
     "text": [
      "{'US': [100, 200, 300], 'CA': [50]}\n",
      "[{'country': 'US', 'average': 200.0}, {'country': 'CA', 'average': 50.0}]\n"
     ]
    }
   ],
   "source": [
    "#back from vega. repeat to refresh my memories\n",
    "#create user:country mapping with a new dictionary\n",
    "user_country={}\n",
    "for u in users:\n",
    "    user_country[u['user_id']]=u['country']\n",
    "\n",
    "#group transaction by country\n",
    "grouped_by_country={}\n",
    "for trans in transactions:\n",
    "    country=user_country.get(trans['user_id'])\n",
    "    if country is None:\n",
    "        continue\n",
    "    if country not in grouped_by_country:\n",
    "        grouped_by_country[country]=[]\n",
    "    grouped_by_country[country].append(trans['amount'])\n",
    "print(grouped_by_country)\n",
    "\n",
    "#calculate the averages\n",
    "results=[]\n",
    "for country, amounts in grouped_by_country.items():\n",
    "  #  if len(amounts)>0:     \n",
    "  #      results.append({'country': country, 'average':sum(amounts)/len(amounts)})\n",
    "  #  else:\n",
    "  #       results.append({'country': country, 'average':0})\n",
    "\n",
    "    avg=sum(amounts)/len(amounts) if amounts else 0\n",
    "    results.append({'country':country, 'average': avg})\n",
    "print(results)\n"
   ]
  },
  {
   "cell_type": "markdown",
   "id": "5ae32eb4-957a-47f5-b0b7-1ca7d50e7e59",
   "metadata": {},
   "source": [
    "# compounded grouping"
   ]
  },
  {
   "cell_type": "code",
   "execution_count": 116,
   "id": "1220270d-080e-4eaa-bd5c-0298b75c3958",
   "metadata": {},
   "outputs": [],
   "source": [
    "users = [\n",
    "  {'user_id': 1, 'country': 'US'},\n",
    "  {'user_id': 2, 'country': 'CA'},\n",
    "  {'user_id': 3, 'country': 'US'},\n",
    "]\n",
    "\n",
    "transactions = [\n",
    "  {'user_id': 1, 'amount': 100, 'date': '2024-03-28'},\n",
    "  {'user_id': 1, 'amount': 200, 'date': '2024-03-31'},\n",
    "  {'user_id': 2, 'amount': 50,  'date': '2024-03-29'},\n",
    "  {'user_id': 3, 'amount': 300, 'date': '2024-04-02'},\n",
    "]\n",
    "\n",
    "from datetime import datetime"
   ]
  },
  {
   "cell_type": "code",
   "execution_count": 128,
   "id": "93b54a57-247e-475e-a5d5-e57f54527c6d",
   "metadata": {},
   "outputs": [
    {
     "name": "stdout",
     "output_type": "stream",
     "text": [
      "{('US', 13): [100, 200], ('CA', 13): [50], ('US', 14): [300]}\n",
      "[{'country': 'US', 'week': 13, 'avg amount': 150.0}, {'country': 'CA', 'week': 13, 'avg amount': 50.0}, {'country': 'US', 'week': 14, 'avg amount': 300.0}]\n"
     ]
    }
   ],
   "source": [
    "# create user_to_country mapping\n",
    "users_to_country={}\n",
    "for u in users:\n",
    "    users_to_country[u['user_id']]=u['country']\n",
    "\n",
    "# group amounts by country and week\n",
    "grouped_by_country_week={}\n",
    "for txn in transactions:\n",
    "    country=users_to_country.get(txn['user_id'])\n",
    "    _, week, _=datetime.strptime(txn['date'],\"%Y-%m-%d\").isocalendar()\n",
    "    if country is None:\n",
    "        continue\n",
    "    grouped_by_country_week.setdefault((country,week),[]).append(txn['amount'])\n",
    "\n",
    "print(grouped_by_country_week)\n",
    "\n",
    "#aggregate by country-week\n",
    "results=[]\n",
    "for key, amount in grouped_by_country_week.items():\n",
    "    avg_amount=sum(amount)/len(amount) if amount else 0\n",
    "    results.append({'country': key[0], 'week': key[1], 'avg_amount':avg_amount})\n",
    "print(results)"
   ]
  },
  {
   "cell_type": "markdown",
   "id": "5bb77ed7-b755-4926-b093-9d6c0c71650a",
   "metadata": {},
   "source": [
    "# Manual calculation of stats"
   ]
  },
  {
   "cell_type": "markdown",
   "id": "de4a0ede-bf26-4517-b19f-e52e6a84abe7",
   "metadata": {},
   "source": [
    "## population SD"
   ]
  },
  {
   "cell_type": "code",
   "execution_count": null,
   "id": "65867079-c08b-4d59-b085-ffb996f6ebc4",
   "metadata": {},
   "outputs": [],
   "source": [
    "\n",
    "\n",
    "import statistics\n",
    "def sd(input):\n",
    "    output={}\n",
    "    for i in input:\n",
    "        output[i['key']]=statistics.pstdev(i['values'])\n",
    "    return output\n",
    "\n",
    "def sd_manual(input):\n",
    "    output={}\n",
    "    for i in input:\n",
    "        mean=sum(i['values'])/len(i['values']) if len(i['values']) else 0\n",
    "        sd=(sum((x-mean)**2 for x in i['values'])/len(i['values']))**0.5\n",
    "        output[i['key']]=sd\n",
    "    return output\n",
    "    "
   ]
  },
  {
   "cell_type": "code",
   "execution_count": 138,
   "id": "bc4c5be0-1b21-4997-900e-5e3cd2da0041",
   "metadata": {},
   "outputs": [
    {
     "name": "stdout",
     "output_type": "stream",
     "text": [
      "{'list1': 1.118033988749895, 'list2': 14.185710239533304}\n",
      "{'list1': 1.118033988749895, 'list2': 14.185710239533304}\n"
     ]
    }
   ],
   "source": [
    "input = [\n",
    "    {\n",
    "        'key': 'list1',\n",
    "        'values': [4,5,2,3,4,5,2,3],\n",
    "    },\n",
    "    {\n",
    "        'key': 'list2',\n",
    "        'values': [1,1,34,12,40,3,9,7],\n",
    "    }\n",
    "]\n",
    "\n",
    "print(sd(input))\n",
    "print(sd_manual(input))"
   ]
  },
  {
   "cell_type": "markdown",
   "id": "8d853e07-c4e4-466a-90af-659e2328a069",
   "metadata": {},
   "source": [
    "## median"
   ]
  },
  {
   "cell_type": "code",
   "execution_count": 160,
   "id": "e1db6c5d-9b63-43d6-9b32-2b56991a7379",
   "metadata": {},
   "outputs": [
    {
     "data": {
      "text/plain": [
       "{'A': 2, 'B': 4.5, 'C': None, 'D': 4}"
      ]
     },
     "execution_count": 160,
     "metadata": {},
     "output_type": "execute_result"
    }
   ],
   "source": [
    "data = [\n",
    "    {'key': 'A', 'values': [3, 1, 2]},\n",
    "    {'key': 'B', 'values': [4, 5]},\n",
    "    {'key': 'C', 'values': []},\n",
    "    {'key': 'D', 'values': [1, 2, 3, 4, 5,6,7]}\n",
    "]\n",
    "\n",
    "def calculate_median(input):\n",
    "    result={}\n",
    "    for d in data:\n",
    "        values=sorted(d['values'])\n",
    "        if values==[]:\n",
    "            median=None\n",
    "        elif len(values)%2==1:\n",
    "            median=values[len(values)//2] \n",
    "        else: \n",
    "            median=(values[len(values)//2-1]+values[len(values)//2])/2\n",
    "\n",
    "        result[d['key']]=median\n",
    "    return result\n",
    "\n",
    "calculate_median(data)"
   ]
  },
  {
   "cell_type": "markdown",
   "id": "9f8fd12c-38a6-4c1f-9250-ee4b56f0debd",
   "metadata": {},
   "source": [
    "## inter quantile range (IQR)"
   ]
  },
  {
   "cell_type": "code",
   "execution_count": 161,
   "id": "4db2522d-9b2b-4e0d-bd6f-736d4ef6f33d",
   "metadata": {},
   "outputs": [
    {
     "data": {
      "text/plain": [
       "{'A': 2, 'B': 0, 'C': 0, 'D': 4.0}"
      ]
     },
     "execution_count": 161,
     "metadata": {},
     "output_type": "execute_result"
    }
   ],
   "source": [
    "def IQR(input):\n",
    "    output={}\n",
    "    for i in input:\n",
    "        values=sorted(i['values'])\n",
    "        if len(values)<=2:\n",
    "            result=0\n",
    "        elif len(values)==3:\n",
    "            result=values[2]-values[0]\n",
    "        elif len(values) % 4 ==0:\n",
    "            Q1=values[len(values)//4-1]\n",
    "            Q3=values[len(values)*3//4-1]\n",
    "            result=Q3-Q1\n",
    "        else:\n",
    "            Q1=(values[len(values)//4-1]+values[len(values)//4])/2\n",
    "            Q3=(values[len(values)*3//4-1]+values[len(values)*3//4])/2\n",
    "            result=Q3-Q1\n",
    "        output[i['key']]=result\n",
    "    return output\n",
    "IQR(data)"
   ]
  },
  {
   "cell_type": "code",
   "execution_count": 165,
   "id": "658b8f94-a114-4887-a849-ade4b169911a",
   "metadata": {},
   "outputs": [
    {
     "data": {
      "text/plain": [
       "3"
      ]
     },
     "execution_count": 165,
     "metadata": {},
     "output_type": "execute_result"
    }
   ],
   "source": [
    "def missing_number(raw_input):\n",
    "    input=sorted(raw_input)\n",
    "    for i in range(len(input)-1):\n",
    "        if input[i]==input[i+1]-1:\n",
    "            continue\n",
    "        elif input[i]<input[i+1]-1:\n",
    "            return input[i]+1\n",
    "            \n",
    "nums = [0,1,2,4,5] \n",
    "missing_number(nums)\n"
   ]
  },
  {
   "cell_type": "code",
   "execution_count": 84,
   "id": "708fea31-411a-447c-b0d4-56313b7803bc",
   "metadata": {},
   "outputs": [],
   "source": [
    "def simulate_overlap(n):\n",
    "    overlap=0\n",
    "    for _ in range(n):\n",
    "        start_time1=random.uniform(0,4)\n",
    "        start_time2=random.uniform(0,4)\n",
    "        if abs(start_time1-start_time2)<1:\n",
    "            overlap+=1\n",
    "    annual_cost=(overlap*365/n)*1000\n",
    "    return annual_cost\n",
    "        "
   ]
  },
  {
   "cell_type": "markdown",
   "id": "b9855223-2640-4571-8884-31719c74fa2b",
   "metadata": {},
   "source": [
    "# Friendship match"
   ]
  },
  {
   "cell_type": "code",
   "execution_count": 39,
   "id": "d891d79c-88bd-43aa-85d5-1fc0dc8b5ca5",
   "metadata": {},
   "outputs": [
    {
     "data": {
      "text/plain": [
       "[{'user_ids': [1, 2], 'start_date': '2020-01-01', 'end_date': '2020-01-03'},\n",
       " {'user_ids': [1, 2], 'start_date': '2020-02-02', 'end_date': '2020-02-05'},\n",
       " {'user_ids': [2, 3], 'start_date': '2020-01-02', 'end_date': '2020-01-05'}]"
      ]
     },
     "execution_count": 39,
     "metadata": {},
     "output_type": "execute_result"
    }
   ],
   "source": [
    "friends_added = [\n",
    "    {'user_ids': [1, 2], 'created_at': '2020-01-01'},\n",
    "    {'user_ids': [3, 2], 'created_at': '2020-01-02'},\n",
    "    {'user_ids': [2, 1], 'created_at': '2020-02-02'},\n",
    "    {'user_ids': [4, 1], 'created_at': '2020-02-02'}]\n",
    "\n",
    "friends_removed = [\n",
    "    {'user_ids': [2, 1], 'created_at': '2020-01-03'},\n",
    "    {'user_ids': [2, 3], 'created_at': '2020-01-05'},\n",
    "    {'user_ids': [1, 2], 'created_at': '2020-02-05'}]\n",
    "\n",
    "\n",
    "def friendship_timeline(friends_added, friends_removed):\n",
    "    start={}\n",
    "    for pair in friends_added:\n",
    "        sorted_pair=tuple(sorted(pair['user_ids']))\n",
    "        created=datetime.strptime(pair['created_at'], \"%Y-%m-%d\")\n",
    "        start.setdefault(sorted_pair,[]).append(created)\n",
    "\n",
    "    end={}\n",
    "    for pair in friends_removed:\n",
    "        sorted_pair=tuple(sorted(pair['user_ids']))\n",
    "        created=datetime.strptime(pair['created_at'], \"%Y-%m-%d\")\n",
    "        end.setdefault(sorted_pair,[]).append(created)\n",
    "    for pair in start:\n",
    "       start[pair].sort()\n",
    "    for pair in end:\n",
    "        end[pair].sort()\n",
    "        \n",
    "    friendships=[]\n",
    "    for pair in start.keys():\n",
    "        if pair not in end:\n",
    "            continue\n",
    "        for i in range(min(len(start.get(pair)),len(end.get(pair)))):\n",
    "            event={\n",
    "                'user_ids':list(pair),\n",
    "                'start_date':start.get(pair)[i].strftime(\"%Y-%m-%d\"),\n",
    "                'end_date':end.get(pair)[i].strftime(\"%Y-%m-%d\")\n",
    "            }\n",
    "            friendships.append(event)\n",
    "\n",
    "    return friendships\n",
    "            \n",
    "    \n",
    "friendship_timeline(friends_added, friends_removed)"
   ]
  },
  {
   "cell_type": "markdown",
   "id": "dc250a09-117e-4c54-b177-65b7cb22e760",
   "metadata": {},
   "source": [
    "## trying a more bullet proof version, assuming that the dates are not clean"
   ]
  },
  {
   "cell_type": "code",
   "execution_count": 49,
   "id": "c113b282-de98-4e28-b198-511e5677173b",
   "metadata": {},
   "outputs": [],
   "source": [
    "def friendship_timeline(friends_added, friends_removed):\n",
    "    start={}\n",
    "    for pair in friends_added:\n",
    "        sorted_pair=tuple(sorted(pair['user_ids']))\n",
    "        created=datetime.strptime(pair['created_at'], \"%Y-%m-%d\")\n",
    "        start.setdefault(sorted_pair,[]).append(created)\n",
    "\n",
    "    end={}\n",
    "    for pair in friends_removed:\n",
    "        sorted_pair=tuple(sorted(pair['user_ids']))\n",
    "        created=datetime.strptime(pair['created_at'], \"%Y-%m-%d\")\n",
    "        end.setdefault(sorted_pair,[]).append(created)\n",
    "        \n",
    "    events=[]\n",
    "    for pair,timestamps in start.items():\n",
    "        for ts in timestamps:\n",
    "            event={\n",
    "                'user_ids':pair,\n",
    "                'created_at':ts,\n",
    "                'type':'start'\n",
    "            }\n",
    "            events.append(event)\n",
    "    for pair,timestamps in end.items():\n",
    "        for ts in timestamps:\n",
    "            event={\n",
    "                'user_ids':pair,\n",
    "                'created_at':ts,\n",
    "                'type':'end'\n",
    "            }\n",
    "            events.append(event)\n",
    "    events.sort(key=lambda x: (x['user_ids'],x['created_at']))\n",
    "\n",
    "    friendships=[]\n",
    "    for i in range(len(events)-1):\n",
    "        if events[i]['user_ids']==events[i+1]['user_ids'] and events[i]['type']=='start' and events[i+1]['type']=='end':  \n",
    "            event={\n",
    "                'user_ids':events[i]['user_ids'],\n",
    "                'start_date':events[i]['created_at'].strftime(\"%Y-%m-%d\"),\n",
    "                'end_date':events[i+1]['created_at'].strftime(\"%Y-%m-%d\")\n",
    "            }\n",
    "            friendships.append(event)\n",
    "    return friendships"
   ]
  },
  {
   "cell_type": "markdown",
   "id": "a05907e7-e1dd-4bc1-a508-9444e0146e73",
   "metadata": {},
   "source": [
    "# Windowed aggregation"
   ]
  },
  {
   "cell_type": "code",
   "execution_count": 53,
   "id": "31540db5-de67-4942-ac5c-dafecfd9210b",
   "metadata": {},
   "outputs": [],
   "source": [
    "#input data\n",
    "events = [\n",
    "    {'user_id': 1, 'timestamp': '2024-01-01 09:00:00'},\n",
    "    {'user_id': 1, 'timestamp': '2024-01-01 09:05:00'},\n",
    "    {'user_id': 1, 'timestamp': '2024-01-01 09:30:00'},\n",
    "    {'user_id': 2, 'timestamp': '2024-01-01 10:00:00'},\n",
    "    {'user_id': 2, 'timestamp': '2024-01-01 10:02:00'},\n",
    "    {'user_id': 2, 'timestamp': '2024-01-01 10:04:00'},\n",
    "]"
   ]
  },
  {
   "cell_type": "code",
   "execution_count": 71,
   "id": "19a500c2-a10e-4f36-ac31-9db0386678db",
   "metadata": {},
   "outputs": [],
   "source": [
    "from datetime import datetime, timedelta\n",
    "def logins(events, threshold=2, window=10):\n",
    "    #convert string to datetime\n",
    "    for event in events:\n",
    "        event['converted_t']=datetime.strptime(event['timestamp'], \"%Y-%m-%d %H:%M:%S\")\n",
    "    #group by user_id\n",
    "    grouped_by_user={}\n",
    "    for e in events:\n",
    "        grouped_by_user.setdefault(e['user_id'],[]).append(e['converted_t'])\n",
    "    for i in grouped_by_user:\n",
    "        grouped_by_user[i].sort()\n",
    "\n",
    "    output=[]\n",
    "#    for u in grouped_by_user:\n",
    "#        for i in range(0,(len(grouped_by_user[u])-threshold+1)):\n",
    "#            if grouped_by_user[u][i+threshold-1]<=grouped_by_user[u][i]+timedelta(minutes=window):\n",
    "#                output.append(u)\n",
    "#                break\n",
    "    \n",
    "    for u in grouped_by_user:\n",
    "        length=len(grouped_by_user[u])\n",
    "        start=0\n",
    "        while start in range(0,length-threshold+1):\n",
    "            for end in range(start, length):\n",
    "                if grouped_by_user[end]<=grouped_by_user[start]+timedelta(window) and end-start+1>=threshold:\n",
    "                    output.append(u)\n",
    "                    break\n",
    "            start +=1\n",
    "            if u in output:\n",
    "                break\n",
    "    \n",
    "    if len(output)>0:\n",
    "        return output\n",
    "    else:\n",
    "        return 'no user found'\n",
    "     \n",
    "\n",
    "    "
   ]
  },
  {
   "cell_type": "markdown",
   "id": "aa915cc8-f60e-4d90-8ccd-5a55372c8726",
   "metadata": {},
   "source": [
    "# flatten nested data structures"
   ]
  },
  {
   "cell_type": "code",
   "execution_count": 84,
   "id": "24603927-e6ba-4ad3-afef-c69c63981098",
   "metadata": {},
   "outputs": [
    {
     "name": "stdout",
     "output_type": "stream",
     "text": [
      "['Nice post!', 'Great write-up', 'Love this']\n"
     ]
    }
   ],
   "source": [
    "posts = [\n",
    "    {\n",
    "        'post_id': 2,\n",
    "        'comments': [\n",
    "            {'text': 'Love this', 'deleted': False},\n",
    "            {'text': 'Spam', 'deleted': True}\n",
    "        ]\n",
    "    }, \n",
    "    {\n",
    "        'post_id': 1,\n",
    "        'comments': [\n",
    "            {'text': 'Nice post!', 'deleted': False},\n",
    "            {'text': 'I disagree', 'deleted': True},\n",
    "            {'text': 'Great write-up', 'deleted': False}\n",
    "        ]\n",
    "    }\n",
    "]\n",
    "\n",
    "output_dict={}\n",
    "for p in range(len(posts)):\n",
    "    p_id=posts[p]['post_id']\n",
    "    for c in posts[p]['comments']:\n",
    "        if c['deleted']==False:\n",
    "            output_dict.setdefault(p_id,[]).append(c['text'])\n",
    "\n",
    "output=[]\n",
    "for i in sorted(output_dict.keys()):\n",
    "    output += output_dict[i]\n",
    "\n",
    "print(output)"
   ]
  },
  {
   "cell_type": "markdown",
   "id": "78f05ee9-7e89-4b11-a81d-567841bc5675",
   "metadata": {},
   "source": [
    "# Ranking/Top-K/\n"
   ]
  },
  {
   "cell_type": "code",
   "execution_count": 85,
   "id": "1a4e13d1-56e3-488c-90d1-84d6e4e436ba",
   "metadata": {},
   "outputs": [],
   "source": [
    "purchases = [\n",
    "    {'user_id': 1, 'amount': 50.0},\n",
    "    {'user_id': 2, 'amount': 75.0},\n",
    "    {'user_id': 1, 'amount': 100.0},\n",
    "    {'user_id': 3, 'amount': 20.0},\n",
    "]\n",
    "#output: [(user_id, total_spend), ...]"
   ]
  },
  {
   "cell_type": "code",
   "execution_count": 108,
   "id": "06430d27-fb63-456d-8018-440c602893a7",
   "metadata": {},
   "outputs": [
    {
     "data": {
      "text/plain": [
       "[(1, 150.0)]"
      ]
     },
     "execution_count": 108,
     "metadata": {},
     "output_type": "execute_result"
    }
   ],
   "source": [
    "def top_k_buyers(purchases, k):\n",
    "    group_by_user={}\n",
    "    for p in purchases:\n",
    "        group_by_user.setdefault(p['user_id'],[]).append(p['amount'])\n",
    "\n",
    "    output=[]\n",
    "    for u in group_by_user.keys():\n",
    "        output.append((u,sum(group_by_user[u])))\n",
    "    output.sort(key=lambda x:x[1], reverse=True)\n",
    "    if len(output)>k:\n",
    "        output=output[:k]\n",
    "    return output\n",
    "\n",
    "top_k_buyers(purchases, 1)"
   ]
  },
  {
   "cell_type": "markdown",
   "id": "1727923e-2403-4f58-a097-de436264912c",
   "metadata": {},
   "source": [
    "# Set logic+membership"
   ]
  },
  {
   "cell_type": "code",
   "execution_count": 2,
   "id": "eb398f23-d148-4014-a5bc-f49e856e05c6",
   "metadata": {},
   "outputs": [],
   "source": [
    "day_1_users = [101, 102, 103, 104, 105]\n",
    "day_7_users = [104, 105, 106, 107]\n",
    "# Write a function that returns the list of user IDs who logged in on both days, sorted in ascending order.\n",
    "# output:[104, 105]"
   ]
  },
  {
   "cell_type": "code",
   "execution_count": 9,
   "id": "1f944589-dc25-4045-ba73-8704226d9ca8",
   "metadata": {},
   "outputs": [
    {
     "name": "stdout",
     "output_type": "stream",
     "text": [
      "[104, 105]\n"
     ]
    }
   ],
   "source": [
    "\n",
    "#output=sorted(set(day_1_users) & set(day_7_users))\n",
    "#output1=sorted(set(day_1_users).intersection(set(day_7_users)))\n",
    "output1=sorted(set(day_1_users)-set(day_7_users))\n",
    "print(output)"
   ]
  },
  {
   "cell_type": "code",
   "execution_count": 17,
   "id": "fca6ec2a-36a8-490e-a8a1-3481aaccbe96",
   "metadata": {},
   "outputs": [
    {
     "data": {
      "text/plain": [
       "{101, 102, 103}"
      ]
     },
     "execution_count": 17,
     "metadata": {},
     "output_type": "execute_result"
    }
   ],
   "source": [
    "set(day_1_users).difference(set(day_7_users))"
   ]
  },
  {
   "cell_type": "markdown",
   "id": "25ce834f-a3b5-4f5e-9508-8baf8fde0840",
   "metadata": {},
   "source": [
    "# multi-pass/aggregation logic"
   ]
  },
  {
   "cell_type": "code",
   "execution_count": 19,
   "id": "6446e6bc-be94-4d48-a4bb-7053a95f5002",
   "metadata": {},
   "outputs": [],
   "source": [
    "purchases = [\n",
    "    {'category': 'books', 'amount': 10.0},\n",
    "    {'category': 'books', 'amount': 15.0},\n",
    "    {'category': 'electronics', 'amount': 100.0},\n",
    "    {'category': 'books', 'amount': 5.0},\n",
    "    {'category': 'electronics', 'amount': 150.0}\n",
    "]\n",
    "\n",
    "# Output\n",
    "# {\n",
    "#     'books': 10.0,\n",
    "#     'electronics': 125.0\n",
    "# }"
   ]
  },
  {
   "cell_type": "code",
   "execution_count": 24,
   "id": "9068a59e-1dad-4d4b-bd24-3c103be5f316",
   "metadata": {},
   "outputs": [
    {
     "name": "stdout",
     "output_type": "stream",
     "text": [
      "{'books': 30.0, 'electronics': 250.0}\n"
     ]
    }
   ],
   "source": [
    "#option 1\n",
    "output={}\n",
    "for p in purchases:\n",
    "    output.setdefault(p['category'],[]).append(p['amount'])\n",
    "\n",
    "output={k : sum(v) for k, v in output.items()}\n",
    "print(output)"
   ]
  },
  {
   "cell_type": "code",
   "execution_count": 23,
   "id": "2f4e2331-ef70-4f6d-8fb8-6590945e56bb",
   "metadata": {},
   "outputs": [
    {
     "name": "stdout",
     "output_type": "stream",
     "text": [
      "{'books': 30.0, 'electronics': 250.0}\n"
     ]
    }
   ],
   "source": [
    "#option 1\n",
    "output={}\n",
    "for p in purchases:\n",
    "    output[p['category']]=output.get(p['category'],0)+p['amount']\n",
    "print(output)"
   ]
  },
  {
   "cell_type": "markdown",
   "id": "eca23582-beb0-45a6-b631-aa69e2ac6d8a",
   "metadata": {},
   "source": [
    "# Timeline & State tracking\n"
   ]
  },
  {
   "cell_type": "code",
   "execution_count": 95,
   "id": "1a4928e4-24d9-4335-8a2e-c3b4a811dd49",
   "metadata": {},
   "outputs": [],
   "source": [
    "events = [\n",
    "    {'user_id': 1, 'action': 'login', 'timestamp': '2020-01-01 09:00:00'},\n",
    "    {'user_id': 2, 'action': 'login', 'timestamp': '2020-01-01 09:10:00'},\n",
    "    {'user_id': 1, 'action': 'logout', 'timestamp': '2020-01-01 09:30:00'},\n",
    "    {'user_id': 2, 'action': 'logout', 'timestamp': '2020-01-01 09:45:00'},\n",
    "    {'user_id': 3, 'action': 'login', 'timestamp': '2020-01-01 09:20:00'},\n",
    "    {'user_id': 3, 'action': 'logout', 'timestamp': '2020-01-01 09:50:00'}\n",
    "]\n",
    "\n",
    "#Return the maximum number of concurrent users at any point in time.\n",
    "\n"
   ]
  },
  {
   "cell_type": "code",
   "execution_count": 96,
   "id": "11cf80be-a143-4f06-a506-11b3329f841b",
   "metadata": {},
   "outputs": [
    {
     "name": "stdout",
     "output_type": "stream",
     "text": [
      "3 2020-01-01 09:20:00 2020-01-01 09:30:00\n"
     ]
    }
   ],
   "source": [
    "from datetime import datetime\n",
    "\n",
    "events.sort(key= lambda x: datetime.strptime(x['timestamp'], \"%Y-%m-%d %H:%M:%S\"))\n",
    "count=0\n",
    "max_count=0\n",
    "in_peak=0\n",
    "for e in events:\n",
    "    if e['action']=='login':\n",
    "        count +=1\n",
    "    elif e['action']=='logout':\n",
    "        count -=1\n",
    "        if in_peak==1:\n",
    "            in_peak=0\n",
    "            max_end_time=e['timestamp']\n",
    "    if count>max_count:\n",
    "        max_count=count\n",
    "        max_start_time=e['timestamp']\n",
    "        max_end_time=max_start_time  #can also set as a specific time after all the events\n",
    "        in_peak=1\n",
    "        \n",
    "print(max_count, max_start_time, max_end_time)"
   ]
  },
  {
   "cell_type": "markdown",
   "id": "d061909d-d9c1-4964-b656-cd28a9711694",
   "metadata": {},
   "source": [
    "# Event Matching (Paired Start/End)"
   ]
  },
  {
   "cell_type": "code",
   "execution_count": 97,
   "id": "9091f7c5-fa4e-4756-be55-0488b5d1e6d7",
   "metadata": {},
   "outputs": [],
   "source": [
    "events = [\n",
    "    {'user_id': 1, 'event_type': 'start', 'timestamp': '2024-01-01 10:00:00'},\n",
    "    {'user_id': 1, 'event_type': 'start', 'timestamp': '2024-01-01 11:00:00'},\n",
    "    {'user_id': 1, 'event_type': 'end',   'timestamp': '2024-01-01 10:30:00'},\n",
    "    {'user_id': 1, 'event_type': 'end',   'timestamp': '2024-01-01 11:30:00'}\n",
    "]\n"
   ]
  },
  {
   "cell_type": "code",
   "execution_count": 102,
   "id": "33315cb3-b8de-489d-bc81-15ed39566b8c",
   "metadata": {},
   "outputs": [
    {
     "name": "stdout",
     "output_type": "stream",
     "text": [
      "[{'user_id': 1, 'start_time': '2024-01-01 10:00:00', 'end_time': '2024-01-01 10:30:00'}, {'user_id': 1, 'start_time': '2024-01-01 11:00:00', 'end_time': '2024-01-01 11:30:00'}]\n"
     ]
    }
   ],
   "source": [
    "for e in events:\n",
    "    e['converted_time']=datetime.strptime(e['timestamp'], \"%Y-%m-%d %H:%M:%S\")\n",
    "events.sort(key= lambda x: x['converted_time'])\n",
    "\n",
    "output=[]\n",
    "start={}\n",
    "for e in events:\n",
    "    if e['event_type']=='start':\n",
    "        start.setdefault(e['user_id'],[]).append(e['converted_time'])\n",
    "    if e['event_type']== 'end' and start.get(e['user_id']):\n",
    "        output.append({'user_id':e['user_id'],\n",
    "                      'start_time':start[e['user_id']][0].strftime(\"%Y-%m-%d %H:%M:%S\"),\n",
    "                      'end_time':e['converted_time'].strftime(\"%Y-%m-%d %H:%M:%S\")})\n",
    "        start[e['user_id']].pop(0)\n",
    "\n",
    "print(output)"
   ]
  },
  {
   "cell_type": "code",
   "execution_count": 1,
   "id": "720b930c-3e95-4c9d-827b-293366604452",
   "metadata": {},
   "outputs": [],
   "source": [
    "a=[1,2,3]\n",
    "a=max(a)"
   ]
  },
  {
   "cell_type": "code",
   "execution_count": 5,
   "id": "3ee2d2ea-0a7c-42c3-a6d6-97abddbac9d5",
   "metadata": {},
   "outputs": [
    {
     "name": "stdout",
     "output_type": "stream",
     "text": [
      "2\n"
     ]
    }
   ],
   "source": [
    "print(5//2)"
   ]
  },
  {
   "cell_type": "code",
   "execution_count": 7,
   "id": "b6a5f35f-b7ca-42b3-b6e2-614931c9b7c7",
   "metadata": {},
   "outputs": [
    {
     "name": "stdout",
     "output_type": "stream",
     "text": [
      "0\n",
      "1\n",
      "2\n",
      "3\n",
      "4\n"
     ]
    }
   ],
   "source": [
    "for i in range(5):\n",
    "    print(i)"
   ]
  },
  {
   "cell_type": "code",
   "execution_count": null,
   "id": "4ca433a6-3822-4ba1-ab4e-e25cf9ce3469",
   "metadata": {},
   "outputs": [],
   "source": [
    "\n",
    "def prime_numbers(N):\n",
    "\toutput=[]\t\n",
    "    for x in range(2,(N+1)):\n",
    "    \tprime=True\n",
    "        for d in range(2, x):\n",
    "            if x%d==0:\n",
    "                prime=False\n",
    "                break\n",
    "        if prime:\n",
    "            output.append(x)\n",
    "    return output\n",
    "            "
   ]
  }
 ],
 "metadata": {
  "kernelspec": {
   "display_name": "Python 3 (ipykernel)",
   "language": "python",
   "name": "python3"
  },
  "language_info": {
   "codemirror_mode": {
    "name": "ipython",
    "version": 3
   },
   "file_extension": ".py",
   "mimetype": "text/x-python",
   "name": "python",
   "nbconvert_exporter": "python",
   "pygments_lexer": "ipython3",
   "version": "3.13.2"
  }
 },
 "nbformat": 4,
 "nbformat_minor": 5
}
